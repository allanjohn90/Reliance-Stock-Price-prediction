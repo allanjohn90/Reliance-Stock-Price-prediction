{
 "cells": [
  {
   "cell_type": "code",
   "execution_count": 49,
   "metadata": {},
   "outputs": [],
   "source": [
    "import numpy as np\n",
    "import pandas as pd\n",
    "import matplotlib.pyplot as plt\n",
    "import datetime"
   ]
  },
  {
   "cell_type": "code",
   "execution_count": 50,
   "metadata": {},
   "outputs": [],
   "source": [
    "dataset = pd.read_csv('RELIANCE.csv', index_col='Date', parse_dates=True)"
   ]
  },
  {
   "cell_type": "code",
   "execution_count": 51,
   "metadata": {},
   "outputs": [
    {
     "data": {
      "text/html": [
       "<div>\n",
       "<style scoped>\n",
       "    .dataframe tbody tr th:only-of-type {\n",
       "        vertical-align: middle;\n",
       "    }\n",
       "\n",
       "    .dataframe tbody tr th {\n",
       "        vertical-align: top;\n",
       "    }\n",
       "\n",
       "    .dataframe thead th {\n",
       "        text-align: right;\n",
       "    }\n",
       "</style>\n",
       "<table border=\"1\" class=\"dataframe\">\n",
       "  <thead>\n",
       "    <tr style=\"text-align: right;\">\n",
       "      <th></th>\n",
       "      <th>Open</th>\n",
       "      <th>High</th>\n",
       "      <th>Low</th>\n",
       "      <th>Close</th>\n",
       "      <th>Adj Close</th>\n",
       "      <th>Volume</th>\n",
       "    </tr>\n",
       "    <tr>\n",
       "      <th>Date</th>\n",
       "      <th></th>\n",
       "      <th></th>\n",
       "      <th></th>\n",
       "      <th></th>\n",
       "      <th></th>\n",
       "      <th></th>\n",
       "    </tr>\n",
       "  </thead>\n",
       "  <tbody>\n",
       "    <tr>\n",
       "      <th>2015-01-01</th>\n",
       "      <td>443.149994</td>\n",
       "      <td>446.000000</td>\n",
       "      <td>441.825012</td>\n",
       "      <td>443.950012</td>\n",
       "      <td>415.367096</td>\n",
       "      <td>1354878.0</td>\n",
       "    </tr>\n",
       "    <tr>\n",
       "      <th>2015-01-02</th>\n",
       "      <td>444.049988</td>\n",
       "      <td>448.024994</td>\n",
       "      <td>442.149994</td>\n",
       "      <td>442.774994</td>\n",
       "      <td>414.267700</td>\n",
       "      <td>3351654.0</td>\n",
       "    </tr>\n",
       "    <tr>\n",
       "      <th>2015-01-05</th>\n",
       "      <td>442.500000</td>\n",
       "      <td>445.450012</td>\n",
       "      <td>437.049988</td>\n",
       "      <td>437.924988</td>\n",
       "      <td>409.729980</td>\n",
       "      <td>4619182.0</td>\n",
       "    </tr>\n",
       "    <tr>\n",
       "      <th>2015-01-06</th>\n",
       "      <td>435.000000</td>\n",
       "      <td>436.500000</td>\n",
       "      <td>416.000000</td>\n",
       "      <td>418.049988</td>\n",
       "      <td>391.134613</td>\n",
       "      <td>8516086.0</td>\n",
       "    </tr>\n",
       "    <tr>\n",
       "      <th>2015-01-07</th>\n",
       "      <td>418.549988</td>\n",
       "      <td>429.399994</td>\n",
       "      <td>418.500000</td>\n",
       "      <td>427.149994</td>\n",
       "      <td>399.648712</td>\n",
       "      <td>9472630.0</td>\n",
       "    </tr>\n",
       "  </tbody>\n",
       "</table>\n",
       "</div>"
      ],
      "text/plain": [
       "                  Open        High         Low       Close   Adj Close  \\\n",
       "Date                                                                     \n",
       "2015-01-01  443.149994  446.000000  441.825012  443.950012  415.367096   \n",
       "2015-01-02  444.049988  448.024994  442.149994  442.774994  414.267700   \n",
       "2015-01-05  442.500000  445.450012  437.049988  437.924988  409.729980   \n",
       "2015-01-06  435.000000  436.500000  416.000000  418.049988  391.134613   \n",
       "2015-01-07  418.549988  429.399994  418.500000  427.149994  399.648712   \n",
       "\n",
       "               Volume  \n",
       "Date                   \n",
       "2015-01-01  1354878.0  \n",
       "2015-01-02  3351654.0  \n",
       "2015-01-05  4619182.0  \n",
       "2015-01-06  8516086.0  \n",
       "2015-01-07  9472630.0  "
      ]
     },
     "execution_count": 51,
     "metadata": {},
     "output_type": "execute_result"
    }
   ],
   "source": [
    "dataset.head()"
   ]
  },
  {
   "cell_type": "code",
   "execution_count": 52,
   "metadata": {},
   "outputs": [
    {
     "name": "stdout",
     "output_type": "stream",
     "text": [
      "<class 'pandas.core.frame.DataFrame'>\n",
      "DatetimeIndex: 1429 entries, 2015-01-01 to 2020-10-16\n",
      "Data columns (total 6 columns):\n",
      " #   Column     Non-Null Count  Dtype  \n",
      "---  ------     --------------  -----  \n",
      " 0   Open       1427 non-null   float64\n",
      " 1   High       1427 non-null   float64\n",
      " 2   Low        1427 non-null   float64\n",
      " 3   Close      1427 non-null   float64\n",
      " 4   Adj Close  1427 non-null   float64\n",
      " 5   Volume     1427 non-null   float64\n",
      "dtypes: float64(6)\n",
      "memory usage: 78.1 KB\n"
     ]
    }
   ],
   "source": [
    "dataset.info()"
   ]
  },
  {
   "cell_type": "code",
   "execution_count": 53,
   "metadata": {},
   "outputs": [
    {
     "data": {
      "text/plain": [
       "Open         2\n",
       "High         2\n",
       "Low          2\n",
       "Close        2\n",
       "Adj Close    2\n",
       "Volume       2\n",
       "dtype: int64"
      ]
     },
     "execution_count": 53,
     "metadata": {},
     "output_type": "execute_result"
    }
   ],
   "source": [
    "dataset.isna().sum()"
   ]
  },
  {
   "cell_type": "code",
   "execution_count": 54,
   "metadata": {},
   "outputs": [],
   "source": [
    "dataset.dropna(inplace=True)"
   ]
  },
  {
   "cell_type": "code",
   "execution_count": 55,
   "metadata": {},
   "outputs": [
    {
     "data": {
      "text/plain": [
       "Open         0\n",
       "High         0\n",
       "Low          0\n",
       "Close        0\n",
       "Adj Close    0\n",
       "Volume       0\n",
       "dtype: int64"
      ]
     },
     "execution_count": 55,
     "metadata": {},
     "output_type": "execute_result"
    }
   ],
   "source": [
    "dataset.isna().sum()"
   ]
  },
  {
   "cell_type": "code",
   "execution_count": 56,
   "metadata": {},
   "outputs": [
    {
     "name": "stdout",
     "output_type": "stream",
     "text": [
      "<class 'pandas.core.frame.DataFrame'>\n",
      "DatetimeIndex: 1427 entries, 2015-01-01 to 2020-10-16\n",
      "Data columns (total 6 columns):\n",
      " #   Column     Non-Null Count  Dtype  \n",
      "---  ------     --------------  -----  \n",
      " 0   Open       1427 non-null   float64\n",
      " 1   High       1427 non-null   float64\n",
      " 2   Low        1427 non-null   float64\n",
      " 3   Close      1427 non-null   float64\n",
      " 4   Adj Close  1427 non-null   float64\n",
      " 5   Volume     1427 non-null   float64\n",
      "dtypes: float64(6)\n",
      "memory usage: 78.0 KB\n"
     ]
    }
   ],
   "source": [
    "dataset.info()"
   ]
  },
  {
   "cell_type": "code",
   "execution_count": 57,
   "metadata": {},
   "outputs": [
    {
     "data": {
      "text/plain": [
       "(1427, 6)"
      ]
     },
     "execution_count": 57,
     "metadata": {},
     "output_type": "execute_result"
    }
   ],
   "source": [
    "dataset.shape"
   ]
  },
  {
   "cell_type": "code",
   "execution_count": 58,
   "metadata": {},
   "outputs": [
    {
     "data": {
      "image/png": "[encoded data removed]",
      "text/plain": [
       "<Figure size 1152x432 with 1 Axes>"
      ]
     },
     "metadata": {
      "needs_background": "light"
     },
     "output_type": "display_data"
    }
   ],
   "source": [
    "dataset['Open'].plot(figsize=(16,6));"
   ]
  },
  {
   "cell_type": "code",
   "execution_count": 59,
   "metadata": {},
   "outputs": [
    {
     "data": {
      "text/html": [
       "<div>\n",
       "<style scoped>\n",
       "    .dataframe tbody tr th:only-of-type {\n",
       "        vertical-align: middle;\n",
       "    }\n",
       "\n",
       "    .dataframe tbody tr th {\n",
       "        vertical-align: top;\n",
       "    }\n",
       "\n",
       "    .dataframe thead th {\n",
       "        text-align: right;\n",
       "    }\n",
       "</style>\n",
       "<table border=\"1\" class=\"dataframe\">\n",
       "  <thead>\n",
       "    <tr style=\"text-align: right;\">\n",
       "      <th></th>\n",
       "      <th>Open</th>\n",
       "      <th>High</th>\n",
       "      <th>Low</th>\n",
       "      <th>Close</th>\n",
       "      <th>Adj Close</th>\n",
       "      <th>Volume</th>\n",
       "    </tr>\n",
       "    <tr>\n",
       "      <th>Date</th>\n",
       "      <th></th>\n",
       "      <th></th>\n",
       "      <th></th>\n",
       "      <th></th>\n",
       "      <th></th>\n",
       "      <th></th>\n",
       "    </tr>\n",
       "  </thead>\n",
       "  <tbody>\n",
       "    <tr>\n",
       "      <th>2015-01-01</th>\n",
       "      <td>NaN</td>\n",
       "      <td>NaN</td>\n",
       "      <td>NaN</td>\n",
       "      <td>NaN</td>\n",
       "      <td>NaN</td>\n",
       "      <td>NaN</td>\n",
       "    </tr>\n",
       "    <tr>\n",
       "      <th>2015-01-02</th>\n",
       "      <td>NaN</td>\n",
       "      <td>NaN</td>\n",
       "      <td>NaN</td>\n",
       "      <td>NaN</td>\n",
       "      <td>NaN</td>\n",
       "      <td>NaN</td>\n",
       "    </tr>\n",
       "    <tr>\n",
       "      <th>2015-01-05</th>\n",
       "      <td>NaN</td>\n",
       "      <td>NaN</td>\n",
       "      <td>NaN</td>\n",
       "      <td>NaN</td>\n",
       "      <td>NaN</td>\n",
       "      <td>NaN</td>\n",
       "    </tr>\n",
       "    <tr>\n",
       "      <th>2015-01-06</th>\n",
       "      <td>NaN</td>\n",
       "      <td>NaN</td>\n",
       "      <td>NaN</td>\n",
       "      <td>NaN</td>\n",
       "      <td>NaN</td>\n",
       "      <td>NaN</td>\n",
       "    </tr>\n",
       "    <tr>\n",
       "      <th>2015-01-07</th>\n",
       "      <td>NaN</td>\n",
       "      <td>NaN</td>\n",
       "      <td>NaN</td>\n",
       "      <td>NaN</td>\n",
       "      <td>NaN</td>\n",
       "      <td>NaN</td>\n",
       "    </tr>\n",
       "    <tr>\n",
       "      <th>2015-01-08</th>\n",
       "      <td>NaN</td>\n",
       "      <td>NaN</td>\n",
       "      <td>NaN</td>\n",
       "      <td>NaN</td>\n",
       "      <td>NaN</td>\n",
       "      <td>NaN</td>\n",
       "    </tr>\n",
       "    <tr>\n",
       "      <th>2015-01-09</th>\n",
       "      <td>433.928567</td>\n",
       "      <td>438.260716</td>\n",
       "      <td>428.300001</td>\n",
       "      <td>431.574995</td>\n",
       "      <td>403.788814</td>\n",
       "      <td>6.074582e+06</td>\n",
       "    </tr>\n",
       "    <tr>\n",
       "      <th>2015-01-12</th>\n",
       "      <td>432.085711</td>\n",
       "      <td>436.046430</td>\n",
       "      <td>425.296426</td>\n",
       "      <td>428.889278</td>\n",
       "      <td>401.276014</td>\n",
       "      <td>6.540661e+06</td>\n",
       "    </tr>\n",
       "    <tr>\n",
       "      <th>2015-01-13</th>\n",
       "      <td>429.578570</td>\n",
       "      <td>433.110718</td>\n",
       "      <td>422.167855</td>\n",
       "      <td>425.860709</td>\n",
       "      <td>398.442439</td>\n",
       "      <td>6.711599e+06</td>\n",
       "    </tr>\n",
       "    <tr>\n",
       "      <th>2015-01-14</th>\n",
       "      <td>426.578570</td>\n",
       "      <td>429.975002</td>\n",
       "      <td>419.103572</td>\n",
       "      <td>422.939283</td>\n",
       "      <td>395.709106</td>\n",
       "      <td>6.794940e+06</td>\n",
       "    </tr>\n",
       "    <tr>\n",
       "      <th>2015-01-15</th>\n",
       "      <td>424.435713</td>\n",
       "      <td>429.839286</td>\n",
       "      <td>419.675001</td>\n",
       "      <td>424.949999</td>\n",
       "      <td>397.590367</td>\n",
       "      <td>6.683856e+06</td>\n",
       "    </tr>\n",
       "    <tr>\n",
       "      <th>2015-01-16</th>\n",
       "      <td>426.071429</td>\n",
       "      <td>430.996429</td>\n",
       "      <td>420.750000</td>\n",
       "      <td>426.050001</td>\n",
       "      <td>398.619550</td>\n",
       "      <td>6.580448e+06</td>\n",
       "    </tr>\n",
       "    <tr>\n",
       "      <th>2015-01-19</th>\n",
       "      <td>426.792860</td>\n",
       "      <td>432.646428</td>\n",
       "      <td>422.078570</td>\n",
       "      <td>428.735718</td>\n",
       "      <td>401.132350</td>\n",
       "      <td>6.153829e+06</td>\n",
       "    </tr>\n",
       "    <tr>\n",
       "      <th>2015-01-20</th>\n",
       "      <td>429.157144</td>\n",
       "      <td>435.757141</td>\n",
       "      <td>424.496425</td>\n",
       "      <td>431.789289</td>\n",
       "      <td>403.989327</td>\n",
       "      <td>6.151774e+06</td>\n",
       "    </tr>\n",
       "    <tr>\n",
       "      <th>2015-01-21</th>\n",
       "      <td>432.335715</td>\n",
       "      <td>439.357143</td>\n",
       "      <td>428.099997</td>\n",
       "      <td>435.821433</td>\n",
       "      <td>407.761867</td>\n",
       "      <td>6.607907e+06</td>\n",
       "    </tr>\n",
       "    <tr>\n",
       "      <th>2015-01-22</th>\n",
       "      <td>436.060717</td>\n",
       "      <td>443.089286</td>\n",
       "      <td>430.885712</td>\n",
       "      <td>438.721431</td>\n",
       "      <td>410.475154</td>\n",
       "      <td>7.507409e+06</td>\n",
       "    </tr>\n",
       "    <tr>\n",
       "      <th>2015-01-23</th>\n",
       "      <td>439.417860</td>\n",
       "      <td>446.717856</td>\n",
       "      <td>434.157139</td>\n",
       "      <td>442.432146</td>\n",
       "      <td>413.946960</td>\n",
       "      <td>7.945013e+06</td>\n",
       "    </tr>\n",
       "    <tr>\n",
       "      <th>2015-01-27</th>\n",
       "      <td>443.196433</td>\n",
       "      <td>448.546430</td>\n",
       "      <td>437.049997</td>\n",
       "      <td>444.203574</td>\n",
       "      <td>415.604335</td>\n",
       "      <td>8.011157e+06</td>\n",
       "    </tr>\n",
       "    <tr>\n",
       "      <th>2015-01-28</th>\n",
       "      <td>445.060717</td>\n",
       "      <td>451.032144</td>\n",
       "      <td>439.482139</td>\n",
       "      <td>446.857143</td>\n",
       "      <td>418.087058</td>\n",
       "      <td>8.021683e+06</td>\n",
       "    </tr>\n",
       "    <tr>\n",
       "      <th>2015-01-29</th>\n",
       "      <td>447.696429</td>\n",
       "      <td>454.496429</td>\n",
       "      <td>442.921426</td>\n",
       "      <td>450.410714</td>\n",
       "      <td>421.411843</td>\n",
       "      <td>9.509282e+06</td>\n",
       "    </tr>\n",
       "  </tbody>\n",
       "</table>\n",
       "</div>"
      ],
      "text/plain": [
       "                  Open        High         Low       Close   Adj Close  \\\n",
       "Date                                                                     \n",
       "2015-01-01         NaN         NaN         NaN         NaN         NaN   \n",
       "2015-01-02         NaN         NaN         NaN         NaN         NaN   \n",
       "2015-01-05         NaN         NaN         NaN         NaN         NaN   \n",
       "2015-01-06         NaN         NaN         NaN         NaN         NaN   \n",
       "2015-01-07         NaN         NaN         NaN         NaN         NaN   \n",
       "2015-01-08         NaN         NaN         NaN         NaN         NaN   \n",
       "2015-01-09  433.928567  438.260716  428.300001  431.574995  403.788814   \n",
       "2015-01-12  432.085711  436.046430  425.296426  428.889278  401.276014   \n",
       "2015-01-13  429.578570  433.110718  422.167855  425.860709  398.442439   \n",
       "2015-01-14  426.578570  429.975002  419.103572  422.939283  395.709106   \n",
       "2015-01-15  424.435713  429.839286  419.675001  424.949999  397.590367   \n",
       "2015-01-16  426.071429  430.996429  420.750000  426.050001  398.619550   \n",
       "2015-01-19  426.792860  432.646428  422.078570  428.735718  401.132350   \n",
       "2015-01-20  429.157144  435.757141  424.496425  431.789289  403.989327   \n",
       "2015-01-21  432.335715  439.357143  428.099997  435.821433  407.761867   \n",
       "2015-01-22  436.060717  443.089286  430.885712  438.721431  410.475154   \n",
       "2015-01-23  439.417860  446.717856  434.157139  442.432146  413.946960   \n",
       "2015-01-27  443.196433  448.546430  437.049997  444.203574  415.604335   \n",
       "2015-01-28  445.060717  451.032144  439.482139  446.857143  418.087058   \n",
       "2015-01-29  447.696429  454.496429  442.921426  450.410714  421.411843   \n",
       "\n",
       "                  Volume  \n",
       "Date                      \n",
       "2015-01-01           NaN  \n",
       "2015-01-02           NaN  \n",
       "2015-01-05           NaN  \n",
       "2015-01-06           NaN  \n",
       "2015-01-07           NaN  \n",
       "2015-01-08           NaN  \n",
       "2015-01-09  6.074582e+06  \n",
       "2015-01-12  6.540661e+06  \n",
       "2015-01-13  6.711599e+06  \n",
       "2015-01-14  6.794940e+06  \n",
       "2015-01-15  6.683856e+06  \n",
       "2015-01-16  6.580448e+06  \n",
       "2015-01-19  6.153829e+06  \n",
       "2015-01-20  6.151774e+06  \n",
       "2015-01-21  6.607907e+06  \n",
       "2015-01-22  7.507409e+06  \n",
       "2015-01-23  7.945013e+06  \n",
       "2015-01-27  8.011157e+06  \n",
       "2015-01-28  8.021683e+06  \n",
       "2015-01-29  9.509282e+06  "
      ]
     },
     "execution_count": 59,
     "metadata": {},
     "output_type": "execute_result"
    }
   ],
   "source": [
    "# 7 days moving average\n",
    "dataset.rolling(7).mean().head(20)"
   ]
  },
  {
   "cell_type": "code",
   "execution_count": 60,
   "metadata": {},
   "outputs": [
    {
     "data": {
      "image/png": "[encoded data removed]",
      "text/plain": [
       "<Figure size 1152x432 with 1 Axes>"
      ]
     },
     "metadata": {
      "needs_background": "light"
     },
     "output_type": "display_data"
    }
   ],
   "source": [
    "dataset['Open'].plot(figsize=(16,6));\n",
    "dataset.rolling(window=30).mean()['Close'].plot();"
   ]
  },
  {
   "cell_type": "code",
   "execution_count": 61,
   "metadata": {},
   "outputs": [
    {
     "data": {
      "image/png": "[encoded data removed]",
      "text/plain": [
       "<Figure size 1152x432 with 1 Axes>"
      ]
     },
     "metadata": {
      "needs_background": "light"
     },
     "output_type": "display_data"
    }
   ],
   "source": [
    "dataset['Close: 30 Day Mean'] = dataset['Close'].rolling(window=30).mean();\n",
    "dataset[['Close','Close: 30 Day Mean']].plot(figsize=(16,6));"
   ]
  },
  {
   "cell_type": "code",
   "execution_count": 62,
   "metadata": {},
   "outputs": [],
   "source": [
    "training_set = dataset['Open']\n",
    "training_set = pd.DataFrame(training_set)"
   ]
  },
  {
   "cell_type": "code",
   "execution_count": 63,
   "metadata": {},
   "outputs": [
    {
     "data": {
      "text/html": [
       "<div>\n",
       "<style scoped>\n",
       "    .dataframe tbody tr th:only-of-type {\n",
       "        vertical-align: middle;\n",
       "    }\n",
       "\n",
       "    .dataframe tbody tr th {\n",
       "        vertical-align: top;\n",
       "    }\n",
       "\n",
       "    .dataframe thead th {\n",
       "        text-align: right;\n",
       "    }\n",
       "</style>\n",
       "<table border=\"1\" class=\"dataframe\">\n",
       "  <thead>\n",
       "    <tr style=\"text-align: right;\">\n",
       "      <th></th>\n",
       "      <th>Open</th>\n",
       "    </tr>\n",
       "    <tr>\n",
       "      <th>Date</th>\n",
       "      <th></th>\n",
       "    </tr>\n",
       "  </thead>\n",
       "  <tbody>\n",
       "    <tr>\n",
       "      <th>2015-01-01</th>\n",
       "      <td>443.149994</td>\n",
       "    </tr>\n",
       "    <tr>\n",
       "      <th>2015-01-02</th>\n",
       "      <td>444.049988</td>\n",
       "    </tr>\n",
       "    <tr>\n",
       "      <th>2015-01-05</th>\n",
       "      <td>442.500000</td>\n",
       "    </tr>\n",
       "    <tr>\n",
       "      <th>2015-01-06</th>\n",
       "      <td>435.000000</td>\n",
       "    </tr>\n",
       "    <tr>\n",
       "      <th>2015-01-07</th>\n",
       "      <td>418.549988</td>\n",
       "    </tr>\n",
       "    <tr>\n",
       "      <th>...</th>\n",
       "      <td>...</td>\n",
       "    </tr>\n",
       "    <tr>\n",
       "      <th>2020-10-12</th>\n",
       "      <td>2235.000000</td>\n",
       "    </tr>\n",
       "    <tr>\n",
       "      <th>2020-10-13</th>\n",
       "      <td>2230.600098</td>\n",
       "    </tr>\n",
       "    <tr>\n",
       "      <th>2020-10-14</th>\n",
       "      <td>2278.899902</td>\n",
       "    </tr>\n",
       "    <tr>\n",
       "      <th>2020-10-15</th>\n",
       "      <td>2290.000000</td>\n",
       "    </tr>\n",
       "    <tr>\n",
       "      <th>2020-10-16</th>\n",
       "      <td>2215.000000</td>\n",
       "    </tr>\n",
       "  </tbody>\n",
       "</table>\n",
       "<p>1427 rows × 1 columns</p>\n",
       "</div>"
      ],
      "text/plain": [
       "                   Open\n",
       "Date                   \n",
       "2015-01-01   443.149994\n",
       "2015-01-02   444.049988\n",
       "2015-01-05   442.500000\n",
       "2015-01-06   435.000000\n",
       "2015-01-07   418.549988\n",
       "...                 ...\n",
       "2020-10-12  2235.000000\n",
       "2020-10-13  2230.600098\n",
       "2020-10-14  2278.899902\n",
       "2020-10-15  2290.000000\n",
       "2020-10-16  2215.000000\n",
       "\n",
       "[1427 rows x 1 columns]"
      ]
     },
     "execution_count": 63,
     "metadata": {},
     "output_type": "execute_result"
    }
   ],
   "source": [
    "training_set"
   ]
  },
  {
   "cell_type": "code",
   "execution_count": 64,
   "metadata": {},
   "outputs": [],
   "source": [
    "#Scaling the data\n",
    "\n",
    "from sklearn.preprocessing import MinMaxScaler\n",
    "sc = MinMaxScaler(feature_range = (0,1))\n",
    "training_set_scaled = sc.fit_transform(training_set)"
   ]
  },
  {
   "cell_type": "code",
   "execution_count": 66,
   "metadata": {},
   "outputs": [],
   "source": [
    "# Creating a dataset with 60 timeteps and 1 output\n",
    "\n",
    "X_train = []\n",
    "y_train = []\n",
    "for i in range(60,1427):\n",
    "    X_train.append(training_set_scaled[i-60:i, 0])\n",
    "    y_train.append(training_set_scaled[i, 0])\n",
    "    \n",
    "X_train, y_train = np.array(X_train), np.array(y_train)\n",
    "\n",
    "#Reshaping the array\n",
    "\n",
    "X_train = np.reshape(X_train, (X_train.shape[0], X_train.shape[1], 1))"
   ]
  },
  {
   "cell_type": "code",
   "execution_count": 67,
   "metadata": {},
   "outputs": [],
   "source": [
    "#!pip show tensorflow"
   ]
  },
  {
   "cell_type": "code",
   "execution_count": 68,
   "metadata": {
    "scrolled": true
   },
   "outputs": [],
   "source": [
    "#!pip install tensorflow==2.0"
   ]
  },
  {
   "cell_type": "code",
   "execution_count": 69,
   "metadata": {},
   "outputs": [],
   "source": [
    "#!pip show tensorflow"
   ]
  },
  {
   "cell_type": "code",
   "execution_count": 70,
   "metadata": {},
   "outputs": [],
   "source": [
    "from keras.models import Sequential\n",
    "from keras.layers import Dense\n",
    "from keras.layers import LSTM\n",
    "from keras.layers import Dropout"
   ]
  },
  {
   "cell_type": "code",
   "execution_count": 71,
   "metadata": {},
   "outputs": [],
   "source": [
    "#Initializing RNN model - since its a time series sequential model\n",
    "regressor = Sequential()"
   ]
  },
  {
   "cell_type": "code",
   "execution_count": 72,
   "metadata": {},
   "outputs": [],
   "source": [
    "#Adding first LSTM layer & some dropout regularization\n",
    "regressor.add(LSTM(units=50, return_sequences=True, input_shape=(X_train.shape[1], 1)))\n",
    "regressor.add(Dropout(0.2))\n",
    "\n",
    "#Adding second LSTM layer & some dropout regularization\n",
    "regressor.add(LSTM(units=50, return_sequences=True))\n",
    "regressor.add(Dropout(0.2))\n",
    "\n",
    "#Adding third LSTM layer & some dropout regularization\n",
    "regressor.add(LSTM(units=50, return_sequences=True))\n",
    "regressor.add(Dropout(0.2))\n",
    "\n",
    "#Adding fourth LSTM layer & some dropout regularization\n",
    "regressor.add(LSTM(units=50))\n",
    "regressor.add(Dropout(0.2))\n",
    "\n",
    "#Adding the output layer\n",
    "regressor.add(Dense(units=1))"
   ]
  },
  {
   "cell_type": "code",
   "execution_count": 73,
   "metadata": {
    "scrolled": true
   },
   "outputs": [
    {
     "name": "stdout",
     "output_type": "stream",
     "text": [
      "Epoch 1/100\n",
      "1367/1367 [==============================] - 14s 10ms/step - loss: 0.0190\n",
      "Epoch 2/100\n",
      "1367/1367 [==============================] - 9s 7ms/step - loss: 0.0030\n",
      "Epoch 3/100\n",
      "1367/1367 [==============================] - 8s 6ms/step - loss: 0.0025\n",
      "Epoch 4/100\n",
      "1367/1367 [==============================] - 9s 7ms/step - loss: 0.0028\n",
      "Epoch 5/100\n",
      "1367/1367 [==============================] - 9s 6ms/step - loss: 0.0026\n",
      "Epoch 6/100\n",
      "1367/1367 [==============================] - 9s 7ms/step - loss: 0.0033\n",
      "Epoch 7/100\n",
      "1367/1367 [==============================] - 8s 6ms/step - loss: 0.0025\n",
      "Epoch 8/100\n",
      "1367/1367 [==============================] - 10s 7ms/step - loss: 0.0027\n",
      "Epoch 9/100\n",
      "1367/1367 [==============================] - 10s 7ms/step - loss: 0.0023\n",
      "Epoch 10/100\n",
      "1367/1367 [==============================] - 10s 7ms/step - loss: 0.0024\n",
      "Epoch 11/100\n",
      "1367/1367 [==============================] - 10s 7ms/step - loss: 0.0021\n",
      "Epoch 12/100\n",
      "1367/1367 [==============================] - 9s 6ms/step - loss: 0.0022\n",
      "Epoch 13/100\n",
      "1367/1367 [==============================] - 8s 6ms/step - loss: 0.0020\n",
      "Epoch 14/100\n",
      "1367/1367 [==============================] - 9s 7ms/step - loss: 0.0018\n",
      "Epoch 15/100\n",
      "1367/1367 [==============================] - 8s 6ms/step - loss: 0.0018\n",
      "Epoch 16/100\n",
      "1367/1367 [==============================] - 9s 7ms/step - loss: 0.0019\n",
      "Epoch 17/100\n",
      "1367/1367 [==============================] - 9s 7ms/step - loss: 0.0018\n",
      "Epoch 18/100\n",
      "1367/1367 [==============================] - 10s 7ms/step - loss: 0.0017\n",
      "Epoch 19/100\n",
      "1367/1367 [==============================] - 10s 7ms/step - loss: 0.0017\n",
      "Epoch 20/100\n",
      "1367/1367 [==============================] - 10s 8ms/step - loss: 0.0022\n",
      "Epoch 21/100\n",
      "1367/1367 [==============================] - 11s 8ms/step - loss: 0.0021\n",
      "Epoch 22/100\n",
      "1367/1367 [==============================] - 10s 8ms/step - loss: 0.0016\n",
      "Epoch 23/100\n",
      "1367/1367 [==============================] - 9s 7ms/step - loss: 0.0016\n",
      "Epoch 24/100\n",
      "1367/1367 [==============================] - 10s 7ms/step - loss: 0.0014: 2s - l\n",
      "Epoch 25/100\n",
      "1367/1367 [==============================] - 11s 8ms/step - loss: 0.0016\n",
      "Epoch 26/100\n",
      "1367/1367 [==============================] - 8s 6ms/step - loss: 0.0015\n",
      "Epoch 27/100\n",
      "1367/1367 [==============================] - 8s 6ms/step - loss: 0.0013\n",
      "Epoch 28/100\n",
      "1367/1367 [==============================] - 9s 7ms/step - loss: 0.0015\n",
      "Epoch 29/100\n",
      "1367/1367 [==============================] - 9s 6ms/step - loss: 0.0015\n",
      "Epoch 30/100\n",
      "1367/1367 [==============================] - 9s 6ms/step - loss: 0.0014\n",
      "Epoch 31/100\n",
      "1367/1367 [==============================] - 10s 7ms/step - loss: 0.0013\n",
      "Epoch 32/100\n",
      "1367/1367 [==============================] - 9s 7ms/step - loss: 0.0014\n",
      "Epoch 33/100\n",
      "1367/1367 [==============================] - 10s 8ms/step - loss: 0.0015\n",
      "Epoch 34/100\n",
      "1367/1367 [==============================] - 10s 8ms/step - loss: 0.0016\n",
      "Epoch 35/100\n",
      "1367/1367 [==============================] - 9s 7ms/step - loss: 0.0014\n",
      "Epoch 36/100\n",
      "1367/1367 [==============================] - 10s 7ms/step - loss: 0.0013\n",
      "Epoch 37/100\n",
      "1367/1367 [==============================] - 9s 7ms/step - loss: 0.0014\n",
      "Epoch 38/100\n",
      "1367/1367 [==============================] - 9s 7ms/step - loss: 0.0015\n",
      "Epoch 39/100\n",
      "1367/1367 [==============================] - 10s 7ms/step - loss: 0.0015\n",
      "Epoch 40/100\n",
      "1367/1367 [==============================] - 10s 7ms/step - loss: 0.0013\n",
      "Epoch 41/100\n",
      "1367/1367 [==============================] - 9s 7ms/step - loss: 0.0012\n",
      "Epoch 42/100\n",
      "1367/1367 [==============================] - 9s 7ms/step - loss: 0.0013\n",
      "Epoch 43/100\n",
      "1367/1367 [==============================] - 9s 7ms/step - loss: 0.0015\n",
      "Epoch 44/100\n",
      "1367/1367 [==============================] - 9s 7ms/step - loss: 0.0015\n",
      "Epoch 45/100\n",
      "1367/1367 [==============================] - 9s 7ms/step - loss: 0.0012\n",
      "Epoch 46/100\n",
      "1367/1367 [==============================] - 9s 7ms/step - loss: 0.0013\n",
      "Epoch 47/100\n",
      "1367/1367 [==============================] - 10s 7ms/step - loss: 0.0013\n",
      "Epoch 48/100\n",
      "1367/1367 [==============================] - 9s 7ms/step - loss: 0.0011\n",
      "Epoch 49/100\n",
      "1367/1367 [==============================] - 9s 7ms/step - loss: 0.0011\n",
      "Epoch 50/100\n",
      "1367/1367 [==============================] - 9s 7ms/step - loss: 0.0012\n",
      "Epoch 51/100\n",
      "1367/1367 [==============================] - 10s 7ms/step - loss: 9.7623e-04\n",
      "Epoch 52/100\n",
      "1367/1367 [==============================] - 9s 7ms/step - loss: 0.0012\n",
      "Epoch 53/100\n",
      "1367/1367 [==============================] - 9s 7ms/step - loss: 0.0013\n",
      "Epoch 54/100\n",
      "1367/1367 [==============================] - 9s 7ms/step - loss: 0.0010\n",
      "Epoch 55/100\n",
      "1367/1367 [==============================] - 9s 7ms/step - loss: 0.0011\n",
      "Epoch 56/100\n",
      "1367/1367 [==============================] - 9s 7ms/step - loss: 0.0012\n",
      "Epoch 57/100\n",
      "1367/1367 [==============================] - 9s 7ms/step - loss: 0.0011\n",
      "Epoch 58/100\n",
      "1367/1367 [==============================] - 10s 7ms/step - loss: 0.0011\n",
      "Epoch 59/100\n",
      "1367/1367 [==============================] - 9s 7ms/step - loss: 0.0013\n",
      "Epoch 60/100\n",
      "1367/1367 [==============================] - 9s 7ms/step - loss: 0.0011\n",
      "Epoch 61/100\n",
      "1367/1367 [==============================] - 9s 7ms/step - loss: 9.6828e-04\n",
      "Epoch 62/100\n",
      "1367/1367 [==============================] - 9s 7ms/step - loss: 0.0010\n",
      "Epoch 63/100\n",
      "1367/1367 [==============================] - 9s 7ms/step - loss: 0.0010\n",
      "Epoch 64/100\n",
      "1367/1367 [==============================] - 9s 7ms/step - loss: 9.3056e-04\n",
      "Epoch 65/100\n",
      "1367/1367 [==============================] - 9s 7ms/step - loss: 0.0011\n",
      "Epoch 66/100\n",
      "1367/1367 [==============================] - 9s 7ms/step - loss: 0.0012\n",
      "Epoch 67/100\n",
      "1367/1367 [==============================] - 10s 7ms/step - loss: 0.0012\n",
      "Epoch 68/100\n",
      "1367/1367 [==============================] - 9s 7ms/step - loss: 0.0010\n",
      "Epoch 69/100\n",
      "1367/1367 [==============================] - 9s 7ms/step - loss: 0.0010\n",
      "Epoch 70/100\n",
      "1367/1367 [==============================] - 10s 7ms/step - loss: 9.9743e-04\n",
      "Epoch 71/100\n",
      "1367/1367 [==============================] - 10s 7ms/step - loss: 9.3170e-04\n",
      "Epoch 72/100\n",
      "1367/1367 [==============================] - 9s 7ms/step - loss: 9.9362e-04\n",
      "Epoch 73/100\n",
      "1367/1367 [==============================] - 10s 7ms/step - loss: 8.9184e-04\n",
      "Epoch 74/100\n",
      "1367/1367 [==============================] - 9s 7ms/step - loss: 9.8469e-04\n",
      "Epoch 75/100\n",
      "1367/1367 [==============================] - 9s 7ms/step - loss: 9.4509e-04\n",
      "Epoch 76/100\n",
      "1367/1367 [==============================] - 9s 7ms/step - loss: 7.5975e-04\n",
      "Epoch 77/100\n",
      "1367/1367 [==============================] - 10s 7ms/step - loss: 8.5153e-04\n",
      "Epoch 78/100\n",
      "1367/1367 [==============================] - 9s 7ms/step - loss: 9.0423e-04\n",
      "Epoch 79/100\n",
      "1367/1367 [==============================] - 9s 7ms/step - loss: 9.5317e-04\n",
      "Epoch 80/100\n",
      "1367/1367 [==============================] - 9s 7ms/step - loss: 9.3141e-04\n",
      "Epoch 81/100\n",
      "1367/1367 [==============================] - 9s 7ms/step - loss: 8.9314e-04\n",
      "Epoch 82/100\n",
      "1367/1367 [==============================] - 9s 7ms/step - loss: 0.0012\n",
      "Epoch 83/100\n",
      "1367/1367 [==============================] - 9s 7ms/step - loss: 7.8502e-04\n",
      "Epoch 84/100\n",
      "1367/1367 [==============================] - 10s 7ms/step - loss: 8.4912e-04\n",
      "Epoch 85/100\n",
      "1367/1367 [==============================] - 9s 7ms/step - loss: 8.7479e-04\n",
      "Epoch 86/100\n",
      "1367/1367 [==============================] - 10s 7ms/step - loss: 8.7598e-04\n",
      "Epoch 87/100\n",
      "1367/1367 [==============================] - 9s 7ms/step - loss: 9.5880e-04\n",
      "Epoch 88/100\n",
      "1367/1367 [==============================] - 10s 7ms/step - loss: 9.1372e-04\n",
      "Epoch 89/100\n",
      "1367/1367 [==============================] - 9s 6ms/step - loss: 8.0132e-04\n",
      "Epoch 90/100\n",
      "1367/1367 [==============================] - 8s 6ms/step - loss: 8.9376e-04\n",
      "Epoch 91/100\n",
      "1367/1367 [==============================] - 10s 7ms/step - loss: 8.6319e-04\n",
      "Epoch 92/100\n",
      "1367/1367 [==============================] - 9s 7ms/step - loss: 8.6220e-04\n",
      "Epoch 93/100\n",
      "1367/1367 [==============================] - 10s 7ms/step - loss: 7.5670e-04\n",
      "Epoch 94/100\n",
      "1367/1367 [==============================] - 8s 6ms/step - loss: 9.2413e-04\n",
      "Epoch 95/100\n"
     ]
    },
    {
     "name": "stdout",
     "output_type": "stream",
     "text": [
      "1367/1367 [==============================] - 10s 7ms/step - loss: 9.5187e-04\n",
      "Epoch 96/100\n",
      "1367/1367 [==============================] - 9s 7ms/step - loss: 9.0838e-04\n",
      "Epoch 97/100\n",
      "1367/1367 [==============================] - 9s 7ms/step - loss: 8.6120e-04\n",
      "Epoch 98/100\n",
      "1367/1367 [==============================] - 8s 6ms/step - loss: 7.9248e-04\n",
      "Epoch 99/100\n",
      "1367/1367 [==============================] - 9s 7ms/step - loss: 8.4022e-04A: 4s\n",
      "Epoch 100/100\n",
      "1367/1367 [==============================] - 8s 6ms/step - loss: 0.0012\n"
     ]
    },
    {
     "data": {
      "text/plain": [
       "<keras.callbacks.callbacks.History at 0x2234d8a3a48>"
      ]
     },
     "execution_count": 73,
     "metadata": {},
     "output_type": "execute_result"
    }
   ],
   "source": [
    "#Compiling the RNN\n",
    "regressor.compile(optimizer='adam', loss='mean_squared_error')\n",
    "\n",
    "#Fitting the RNN to the train dataset\n",
    "regressor.fit(X_train,y_train,epochs=100, batch_size=32)"
   ]
  },
  {
   "cell_type": "code",
   "execution_count": 74,
   "metadata": {},
   "outputs": [],
   "source": [
    "dataset_test = pd.read_csv('RELIANCE - test.csv',index_col=\"Date\",parse_dates=True)"
   ]
  },
  {
   "cell_type": "code",
   "execution_count": 75,
   "metadata": {},
   "outputs": [],
   "source": [
    "real_stock_price = dataset_test.iloc[:, 1:2].values"
   ]
  },
  {
   "cell_type": "code",
   "execution_count": 76,
   "metadata": {},
   "outputs": [
    {
     "data": {
      "text/html": [
       "<div>\n",
       "<style scoped>\n",
       "    .dataframe tbody tr th:only-of-type {\n",
       "        vertical-align: middle;\n",
       "    }\n",
       "\n",
       "    .dataframe tbody tr th {\n",
       "        vertical-align: top;\n",
       "    }\n",
       "\n",
       "    .dataframe thead th {\n",
       "        text-align: right;\n",
       "    }\n",
       "</style>\n",
       "<table border=\"1\" class=\"dataframe\">\n",
       "  <thead>\n",
       "    <tr style=\"text-align: right;\">\n",
       "      <th></th>\n",
       "      <th>Open</th>\n",
       "      <th>High</th>\n",
       "      <th>Low</th>\n",
       "      <th>Close</th>\n",
       "      <th>Adj Close</th>\n",
       "      <th>Volume</th>\n",
       "    </tr>\n",
       "    <tr>\n",
       "      <th>Date</th>\n",
       "      <th></th>\n",
       "      <th></th>\n",
       "      <th></th>\n",
       "      <th></th>\n",
       "      <th></th>\n",
       "      <th></th>\n",
       "    </tr>\n",
       "  </thead>\n",
       "  <tbody>\n",
       "    <tr>\n",
       "      <th>2020-10-16</th>\n",
       "      <td>2215.000000</td>\n",
       "      <td>2232.500000</td>\n",
       "      <td>2172.649902</td>\n",
       "      <td>2175.800049</td>\n",
       "      <td>2175.800049</td>\n",
       "      <td>9960828</td>\n",
       "    </tr>\n",
       "    <tr>\n",
       "      <th>2020-10-19</th>\n",
       "      <td>2190.050049</td>\n",
       "      <td>2228.699951</td>\n",
       "      <td>2155.149902</td>\n",
       "      <td>2176.199951</td>\n",
       "      <td>2176.199951</td>\n",
       "      <td>14398973</td>\n",
       "    </tr>\n",
       "    <tr>\n",
       "      <th>2020-10-20</th>\n",
       "      <td>2179.000000</td>\n",
       "      <td>2193.000000</td>\n",
       "      <td>2152.250000</td>\n",
       "      <td>2155.899902</td>\n",
       "      <td>2155.899902</td>\n",
       "      <td>8529573</td>\n",
       "    </tr>\n",
       "    <tr>\n",
       "      <th>2020-10-21</th>\n",
       "      <td>2168.000000</td>\n",
       "      <td>2192.000000</td>\n",
       "      <td>2097.750000</td>\n",
       "      <td>2124.600098</td>\n",
       "      <td>2124.600098</td>\n",
       "      <td>15728986</td>\n",
       "    </tr>\n",
       "    <tr>\n",
       "      <th>2020-10-22</th>\n",
       "      <td>2127.399902</td>\n",
       "      <td>2132.500000</td>\n",
       "      <td>2091.000000</td>\n",
       "      <td>2106.949951</td>\n",
       "      <td>2106.949951</td>\n",
       "      <td>14215215</td>\n",
       "    </tr>\n",
       "  </tbody>\n",
       "</table>\n",
       "</div>"
      ],
      "text/plain": [
       "                   Open         High          Low        Close    Adj Close  \\\n",
       "Date                                                                          \n",
       "2020-10-16  2215.000000  2232.500000  2172.649902  2175.800049  2175.800049   \n",
       "2020-10-19  2190.050049  2228.699951  2155.149902  2176.199951  2176.199951   \n",
       "2020-10-20  2179.000000  2193.000000  2152.250000  2155.899902  2155.899902   \n",
       "2020-10-21  2168.000000  2192.000000  2097.750000  2124.600098  2124.600098   \n",
       "2020-10-22  2127.399902  2132.500000  2091.000000  2106.949951  2106.949951   \n",
       "\n",
       "              Volume  \n",
       "Date                  \n",
       "2020-10-16   9960828  \n",
       "2020-10-19  14398973  \n",
       "2020-10-20   8529573  \n",
       "2020-10-21  15728986  \n",
       "2020-10-22  14215215  "
      ]
     },
     "execution_count": 76,
     "metadata": {},
     "output_type": "execute_result"
    }
   ],
   "source": [
    "dataset_test.head()"
   ]
  },
  {
   "cell_type": "code",
   "execution_count": 77,
   "metadata": {},
   "outputs": [],
   "source": [
    "test_set=dataset_test['Open']\n",
    "test_set=pd.DataFrame(test_set)"
   ]
  },
  {
   "cell_type": "code",
   "execution_count": 83,
   "metadata": {},
   "outputs": [],
   "source": [
    "dataset_total = pd.concat((dataset['Open'], dataset_test['Open']), axis = 0)\n",
    "inputs = dataset_total[len(dataset_total) - len(dataset_test) - 60:].values\n",
    "inputs = inputs.reshape(-1,1)\n",
    "inputs = sc.transform(inputs)\n",
    "X_test = []\n",
    "for i in range(60, 80):\n",
    "    X_test.append(inputs[i-60:i, 0])   \n",
    "X_test = np.array(X_test)\n",
    "X_test = np.reshape(X_test, (X_test.shape[0], X_test.shape[1], 1))\n",
    "predicted_stock_price = regressor.predict(X_test)\n",
    "predicted_stock_price = sc.inverse_transform(predicted_stock_price)"
   ]
  },
  {
   "cell_type": "code",
   "execution_count": 79,
   "metadata": {},
   "outputs": [
    {
     "name": "stdout",
     "output_type": "stream",
     "text": [
      "<class 'pandas.core.frame.DataFrame'>\n",
      "RangeIndex: 20 entries, 0 to 19\n",
      "Data columns (total 1 columns):\n",
      " #   Column  Non-Null Count  Dtype  \n",
      "---  ------  --------------  -----  \n",
      " 0   0       20 non-null     float32\n",
      "dtypes: float32(1)\n",
      "memory usage: 208.0 bytes\n"
     ]
    }
   ],
   "source": [
    "predicted_stock_price=pd.DataFrame(predicted_stock_price)\n",
    "predicted_stock_price.info()"
   ]
  },
  {
   "cell_type": "code",
   "execution_count": 80,
   "metadata": {
    "scrolled": true
   },
   "outputs": [
    {
     "data": {
      "image/png": "[encoded data removed]",
      "text/plain": [
       "<Figure size 432x288 with 1 Axes>"
      ]
     },
     "metadata": {
      "needs_background": "light"
     },
     "output_type": "display_data"
    }
   ],
   "source": [
    "# Visualising the results\n",
    "plt.plot(real_stock_price, color = 'red', label = 'Real Reliance Stock Price')\n",
    "plt.plot(predicted_stock_price, color = 'blue', label = 'Predicted Reliance Stock Price')\n",
    "plt.title('Reliance Stock Price Prediction')\n",
    "plt.xlabel('Time')\n",
    "plt.ylabel('Reliance Stock Price')\n",
    "plt.legend()\n",
    "plt.show()"
   ]
  },
  {
   "cell_type": "code",
   "execution_count": 81,
   "metadata": {
    "scrolled": false
   },
   "outputs": [
    {
     "data": {
      "text/html": [
       "<div>\n",
       "<style scoped>\n",
       "    .dataframe tbody tr th:only-of-type {\n",
       "        vertical-align: middle;\n",
       "    }\n",
       "\n",
       "    .dataframe tbody tr th {\n",
       "        vertical-align: top;\n",
       "    }\n",
       "\n",
       "    .dataframe thead th {\n",
       "        text-align: right;\n",
       "    }\n",
       "</style>\n",
       "<table border=\"1\" class=\"dataframe\">\n",
       "  <thead>\n",
       "    <tr style=\"text-align: right;\">\n",
       "      <th></th>\n",
       "      <th>0</th>\n",
       "    </tr>\n",
       "  </thead>\n",
       "  <tbody>\n",
       "    <tr>\n",
       "      <th>0</th>\n",
       "      <td>2260.682861</td>\n",
       "    </tr>\n",
       "    <tr>\n",
       "      <th>1</th>\n",
       "      <td>2235.860107</td>\n",
       "    </tr>\n",
       "    <tr>\n",
       "      <th>2</th>\n",
       "      <td>2212.197754</td>\n",
       "    </tr>\n",
       "    <tr>\n",
       "      <th>3</th>\n",
       "      <td>2197.092773</td>\n",
       "    </tr>\n",
       "    <tr>\n",
       "      <th>4</th>\n",
       "      <td>2188.701904</td>\n",
       "    </tr>\n",
       "    <tr>\n",
       "      <th>5</th>\n",
       "      <td>2171.381592</td>\n",
       "    </tr>\n",
       "    <tr>\n",
       "      <th>6</th>\n",
       "      <td>2148.067383</td>\n",
       "    </tr>\n",
       "    <tr>\n",
       "      <th>7</th>\n",
       "      <td>2130.303711</td>\n",
       "    </tr>\n",
       "    <tr>\n",
       "      <th>8</th>\n",
       "      <td>2099.347168</td>\n",
       "    </tr>\n",
       "    <tr>\n",
       "      <th>9</th>\n",
       "      <td>2075.089111</td>\n",
       "    </tr>\n",
       "    <tr>\n",
       "      <th>10</th>\n",
       "      <td>2049.484131</td>\n",
       "    </tr>\n",
       "    <tr>\n",
       "      <th>11</th>\n",
       "      <td>2043.779541</td>\n",
       "    </tr>\n",
       "    <tr>\n",
       "      <th>12</th>\n",
       "      <td>2047.503662</td>\n",
       "    </tr>\n",
       "    <tr>\n",
       "      <th>13</th>\n",
       "      <td>2004.583008</td>\n",
       "    </tr>\n",
       "    <tr>\n",
       "      <th>14</th>\n",
       "      <td>1934.566406</td>\n",
       "    </tr>\n",
       "    <tr>\n",
       "      <th>15</th>\n",
       "      <td>1919.190552</td>\n",
       "    </tr>\n",
       "    <tr>\n",
       "      <th>16</th>\n",
       "      <td>1956.539307</td>\n",
       "    </tr>\n",
       "    <tr>\n",
       "      <th>17</th>\n",
       "      <td>2022.344360</td>\n",
       "    </tr>\n",
       "    <tr>\n",
       "      <th>18</th>\n",
       "      <td>2071.631836</td>\n",
       "    </tr>\n",
       "    <tr>\n",
       "      <th>19</th>\n",
       "      <td>2091.428711</td>\n",
       "    </tr>\n",
       "  </tbody>\n",
       "</table>\n",
       "</div>"
      ],
      "text/plain": [
       "              0\n",
       "0   2260.682861\n",
       "1   2235.860107\n",
       "2   2212.197754\n",
       "3   2197.092773\n",
       "4   2188.701904\n",
       "5   2171.381592\n",
       "6   2148.067383\n",
       "7   2130.303711\n",
       "8   2099.347168\n",
       "9   2075.089111\n",
       "10  2049.484131\n",
       "11  2043.779541\n",
       "12  2047.503662\n",
       "13  2004.583008\n",
       "14  1934.566406\n",
       "15  1919.190552\n",
       "16  1956.539307\n",
       "17  2022.344360\n",
       "18  2071.631836\n",
       "19  2091.428711"
      ]
     },
     "execution_count": 81,
     "metadata": {},
     "output_type": "execute_result"
    }
   ],
   "source": [
    "predicted_stock_price"
   ]
  },
  {
   "cell_type": "code",
   "execution_count": 88,
   "metadata": {},
   "outputs": [],
   "source": [
    "dataset_test_60 = pd.read_csv('RELIANCE_60_days.csv',index_col=\"Date\",parse_dates=True)"
   ]
  },
  {
   "cell_type": "code",
   "execution_count": 89,
   "metadata": {},
   "outputs": [],
   "source": [
    "test_set_new = dataset_test_60['Open']\n",
    "test_set_new=pd.DataFrame(test_set_new)"
   ]
  },
  {
   "cell_type": "code",
   "execution_count": 90,
   "metadata": {},
   "outputs": [],
   "source": [
    "x_test = []\n",
    "test_set_scaled = sc.transform(test_set_new)\n",
    "x_test.append(test_set_scaled)   \n",
    "x_test = np.array(x_test)\n",
    "x_test = np.reshape(x_test, (x_test.shape[0], x_test.shape[1], 1))\n",
    "predicted_stock_price1 = regressor.predict(x_test)\n",
    "predicted_stock_price1 = sc.inverse_transform(predicted_stock_price1)"
   ]
  },
  {
   "cell_type": "code",
   "execution_count": 92,
   "metadata": {},
   "outputs": [
    {
     "name": "stdout",
     "output_type": "stream",
     "text": [
      "[[2006.7144]]\n"
     ]
    }
   ],
   "source": [
    "#Predicted Open price for 16th Nov 2020\n",
    "print(predicted_stock_price1)"
   ]
  }
 ],
 "metadata": {
  "kernelspec": {
   "display_name": "Python 3",
   "language": "python",
   "name": "python3"
  },
  "language_info": {
   "codemirror_mode": {
    "name": "ipython",
    "version": 3
   },
   "file_extension": ".py",
   "mimetype": "text/x-python",
   "name": "python",
   "nbconvert_exporter": "python",
   "pygments_lexer": "ipython3",
   "version": "3.7.9"
  }
 },
 "nbformat": 4,
 "nbformat_minor": 4
}
